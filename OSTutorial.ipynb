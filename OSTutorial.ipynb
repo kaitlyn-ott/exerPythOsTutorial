{
 "cells": [
  {
   "cell_type": "code",
   "execution_count": 1,
   "metadata": {},
   "outputs": [],
   "source": [
    "import os"
   ]
  },
  {
   "cell_type": "code",
   "execution_count": 2,
   "metadata": {
    "collapsed": true
   },
   "outputs": [
    {
     "name": "stdout",
     "output_type": "stream",
     "text": [
      "['CLD_CONTINUED', 'CLD_DUMPED', 'CLD_EXITED', 'CLD_TRAPPED', 'DirEntry', 'EX_CANTCREAT', 'EX_CONFIG', 'EX_DATAERR', 'EX_IOERR', 'EX_NOHOST', 'EX_NOINPUT', 'EX_NOPERM', 'EX_NOUSER', 'EX_OK', 'EX_OSERR', 'EX_OSFILE', 'EX_PROTOCOL', 'EX_SOFTWARE', 'EX_TEMPFAIL', 'EX_UNAVAILABLE', 'EX_USAGE', 'F_LOCK', 'F_OK', 'F_TEST', 'F_TLOCK', 'F_ULOCK', 'MutableMapping', 'NGROUPS_MAX', 'O_ACCMODE', 'O_APPEND', 'O_ASYNC', 'O_CLOEXEC', 'O_CREAT', 'O_DIRECTORY', 'O_DSYNC', 'O_EXCL', 'O_EXLOCK', 'O_NDELAY', 'O_NOCTTY', 'O_NOFOLLOW', 'O_NONBLOCK', 'O_RDONLY', 'O_RDWR', 'O_SHLOCK', 'O_SYNC', 'O_TRUNC', 'O_WRONLY', 'POSIX_SPAWN_CLOSE', 'POSIX_SPAWN_DUP2', 'POSIX_SPAWN_OPEN', 'PRIO_PGRP', 'PRIO_PROCESS', 'PRIO_USER', 'P_ALL', 'P_NOWAIT', 'P_NOWAITO', 'P_PGID', 'P_PID', 'P_WAIT', 'PathLike', 'RTLD_GLOBAL', 'RTLD_LAZY', 'RTLD_LOCAL', 'RTLD_NODELETE', 'RTLD_NOLOAD', 'RTLD_NOW', 'R_OK', 'SCHED_FIFO', 'SCHED_OTHER', 'SCHED_RR', 'SEEK_CUR', 'SEEK_END', 'SEEK_SET', 'ST_NOSUID', 'ST_RDONLY', 'TMP_MAX', 'WCONTINUED', 'WCOREDUMP', 'WEXITED', 'WEXITSTATUS', 'WIFCONTINUED', 'WIFEXITED', 'WIFSIGNALED', 'WIFSTOPPED', 'WNOHANG', 'WNOWAIT', 'WSTOPPED', 'WSTOPSIG', 'WTERMSIG', 'WUNTRACED', 'W_OK', 'X_OK', '_Environ', '__all__', '__builtins__', '__cached__', '__doc__', '__file__', '__loader__', '__name__', '__package__', '__spec__', '_check_methods', '_execvpe', '_exists', '_exit', '_fspath', '_fwalk', '_get_exports_list', '_putenv', '_spawnvef', '_unsetenv', '_wrap_close', 'abc', 'abort', 'access', 'altsep', 'chdir', 'chflags', 'chmod', 'chown', 'chroot', 'close', 'closerange', 'confstr', 'confstr_names', 'cpu_count', 'ctermid', 'curdir', 'defpath', 'device_encoding', 'devnull', 'dup', 'dup2', 'environ', 'environb', 'error', 'execl', 'execle', 'execlp', 'execlpe', 'execv', 'execve', 'execvp', 'execvpe', 'extsep', 'fchdir', 'fchmod', 'fchown', 'fdopen', 'fork', 'forkpty', 'fpathconf', 'fsdecode', 'fsencode', 'fspath', 'fstat', 'fstatvfs', 'fsync', 'ftruncate', 'fwalk', 'get_blocking', 'get_exec_path', 'get_inheritable', 'get_terminal_size', 'getcwd', 'getcwdb', 'getegid', 'getenv', 'getenvb', 'geteuid', 'getgid', 'getgrouplist', 'getgroups', 'getloadavg', 'getlogin', 'getpgid', 'getpgrp', 'getpid', 'getppid', 'getpriority', 'getsid', 'getuid', 'initgroups', 'isatty', 'kill', 'killpg', 'lchflags', 'lchmod', 'lchown', 'linesep', 'link', 'listdir', 'lockf', 'lseek', 'lstat', 'major', 'makedev', 'makedirs', 'minor', 'mkdir', 'mkfifo', 'mknod', 'name', 'nice', 'open', 'openpty', 'pardir', 'path', 'pathconf', 'pathconf_names', 'pathsep', 'pipe', 'popen', 'posix_spawn', 'posix_spawnp', 'pread', 'putenv', 'pwrite', 'read', 'readlink', 'readv', 'register_at_fork', 'remove', 'removedirs', 'rename', 'renames', 'replace', 'rmdir', 'scandir', 'sched_get_priority_max', 'sched_get_priority_min', 'sched_yield', 'sendfile', 'sep', 'set_blocking', 'set_inheritable', 'setegid', 'seteuid', 'setgid', 'setgroups', 'setpgid', 'setpgrp', 'setpriority', 'setregid', 'setreuid', 'setsid', 'setuid', 'spawnl', 'spawnle', 'spawnlp', 'spawnlpe', 'spawnv', 'spawnve', 'spawnvp', 'spawnvpe', 'st', 'stat', 'stat_result', 'statvfs', 'statvfs_result', 'strerror', 'supports_bytes_environ', 'supports_dir_fd', 'supports_effective_ids', 'supports_fd', 'supports_follow_symlinks', 'symlink', 'sync', 'sys', 'sysconf', 'sysconf_names', 'system', 'tcgetpgrp', 'tcsetpgrp', 'terminal_size', 'times', 'times_result', 'truncate', 'ttyname', 'umask', 'uname', 'uname_result', 'unlink', 'unsetenv', 'urandom', 'utime', 'wait', 'wait3', 'wait4', 'waitpid', 'walk', 'write', 'writev']\n"
     ]
    }
   ],
   "source": [
    "print(dir(os))"
   ]
  },
  {
   "cell_type": "code",
   "execution_count": 3,
   "metadata": {},
   "outputs": [
    {
     "name": "stdout",
     "output_type": "stream",
     "text": [
      "/Users/Ottj/Desktop/myProject\n"
     ]
    }
   ],
   "source": [
    "print (os.getcwd())"
   ]
  },
  {
   "cell_type": "code",
   "execution_count": 5,
   "metadata": {},
   "outputs": [],
   "source": [
    "os.chdir('/Users/Ottj/Desktop/')"
   ]
  },
  {
   "cell_type": "code",
   "execution_count": 6,
   "metadata": {
    "collapsed": true
   },
   "outputs": [
    {
     "name": "stdout",
     "output_type": "stream",
     "text": [
      "['Amazoncom Order  Here is your SquareTrade Protection Plan.pdf', 'Kait', 'December_statement.pdf', 'Missionary', '.DS_Store', 'Geany.app', '201912_Wage and Income_OTT_100618531004.pdf', 'Evelyn newborn', '.localized', '201812_Wage and Income_OTT_100618531222.pdf', 'Relocated Items.nosync', 'BMI', '8-6-21 Pay stub.pdf', 'myProject', 'learning_python', 'Books', \"Borrower's agreement.pdf\", 'Relocated Items', 'Borrowers Authorization.pdf', 'Family Pictures 2019', 'november_statement.pdf', \"Driver's licenses.pdf\", 'Paystubs VA.pdf', 'JJ', 'W2 VA.pdf', 'Java.pkg', '8-20-21 Pay stub.pdf', 'Screen Shot 2021-06-15 at 3.01.24 PM.png']\n"
     ]
    }
   ],
   "source": [
    "print(os.listdir())"
   ]
  },
  {
   "cell_type": "code",
   "execution_count": 14,
   "metadata": {},
   "outputs": [],
   "source": [
    "os.mkdir('OS-Demo')"
   ]
  },
  {
   "cell_type": "code",
   "execution_count": 15,
   "metadata": {},
   "outputs": [],
   "source": [
    "os.makedirs('OS-Demo-2/Sub-Dir-1')"
   ]
  },
  {
   "cell_type": "code",
   "execution_count": 16,
   "metadata": {
    "collapsed": true
   },
   "outputs": [
    {
     "name": "stdout",
     "output_type": "stream",
     "text": [
      "['Amazoncom Order  Here is your SquareTrade Protection Plan.pdf', 'Kait', 'December_statement.pdf', 'Missionary', '.DS_Store', 'Geany.app', '201912_Wage and Income_OTT_100618531004.pdf', 'Evelyn newborn', '.localized', '201812_Wage and Income_OTT_100618531222.pdf', 'Relocated Items.nosync', 'OS-Demo-2', 'BMI', '8-6-21 Pay stub.pdf', 'myProject', 'learning_python', 'Books', \"Borrower's agreement.pdf\", 'Relocated Items', 'Borrowers Authorization.pdf', 'Family Pictures 2019', 'november_statement.pdf', \"Driver's licenses.pdf\", 'OS-Demo', 'Paystubs VA.pdf', 'JJ', 'W2 VA.pdf', 'Java.pkg', '8-20-21 Pay stub.pdf', 'Screen Shot 2021-06-15 at 3.01.24 PM.png']\n"
     ]
    }
   ],
   "source": [
    "print(os.listdir())"
   ]
  },
  {
   "cell_type": "code",
   "execution_count": 17,
   "metadata": {},
   "outputs": [],
   "source": [
    "os.rename('OS-Demo','OS-Demo-1')"
   ]
  },
  {
   "cell_type": "code",
   "execution_count": 18,
   "metadata": {},
   "outputs": [],
   "source": [
    "os.rmdir('OS-Demo-1')"
   ]
  },
  {
   "cell_type": "code",
   "execution_count": 19,
   "metadata": {},
   "outputs": [],
   "source": [
    "os.removedirs('OS-Demo-2/Sub-Dir-1')"
   ]
  },
  {
   "cell_type": "code",
   "execution_count": 20,
   "metadata": {},
   "outputs": [
    {
     "name": "stdout",
     "output_type": "stream",
     "text": [
      "os.stat_result(st_mode=16877, st_ino=29997127, st_dev=16777220, st_nlink=12, st_uid=501, st_gid=20, st_size=384, st_atime=1630961210, st_mtime=1630961209, st_ctime=1630961209)\n"
     ]
    }
   ],
   "source": [
    "print(os.stat('myProject'))"
   ]
  },
  {
   "cell_type": "code",
   "execution_count": 21,
   "metadata": {},
   "outputs": [],
   "source": [
    "from datetime import datetime"
   ]
  },
  {
   "cell_type": "code",
   "execution_count": 22,
   "metadata": {},
   "outputs": [
    {
     "name": "stdout",
     "output_type": "stream",
     "text": [
      "2021-09-06 15:22:39.701050\n"
     ]
    }
   ],
   "source": [
    "mod_time = os.stat('myProject').st_mtime\n",
    "print(datetime.fromtimestamp(mod_time))"
   ]
  },
  {
   "cell_type": "code",
   "execution_count": 28,
   "metadata": {
    "collapsed": true
   },
   "outputs": [
    {
     "name": "stdout",
     "output_type": "stream",
     "text": [
      "Current Path: /Users/Ottj/Desktop/myProject\n",
      "Directories: ['exerPythCheckInstal', 'exerPythOsTutorial', 'exerPythCondaEnvPkgs', '.ipynb_checkpoints', 'exerGitPractice', '.git', 'exerPythModPackTutorial']\n",
      "Files: ['myName.txt', 'README.md', 'OSTutorial.ipynb']\n",
      "\n",
      "Current Path: /Users/Ottj/Desktop/myProject/exerPythCheckInstal\n",
      "Directories: ['.git']\n",
      "Files: ['README.md']\n",
      "\n",
      "Current Path: /Users/Ottj/Desktop/myProject/exerPythCheckInstal/.git\n",
      "Directories: ['objects', 'info', 'logs', 'hooks', 'refs']\n",
      "Files: ['config', 'HEAD', 'description', 'index', 'packed-refs', 'COMMIT_EDITMSG']\n",
      "\n",
      "Current Path: /Users/Ottj/Desktop/myProject/exerPythCheckInstal/.git/objects\n",
      "Directories: ['95', '67', 'a3', 'pack', 'info', 'a9', 'ea', '2d']\n",
      "Files: []\n",
      "\n",
      "Current Path: /Users/Ottj/Desktop/myProject/exerPythCheckInstal/.git/objects/95\n",
      "Directories: []\n",
      "Files: ['2fe4e0642fc61da097b3a306f1e85178e7dccf']\n",
      "\n",
      "Current Path: /Users/Ottj/Desktop/myProject/exerPythCheckInstal/.git/objects/67\n",
      "Directories: []\n",
      "Files: ['2bf968314e824e1b2096c96703f1b61b196805']\n",
      "\n",
      "Current Path: /Users/Ottj/Desktop/myProject/exerPythCheckInstal/.git/objects/a3\n",
      "Directories: []\n",
      "Files: ['1c0521e39dc5d4716d3ef207eea081812fca47']\n",
      "\n",
      "Current Path: /Users/Ottj/Desktop/myProject/exerPythCheckInstal/.git/objects/pack\n",
      "Directories: []\n",
      "Files: ['pack-7ab8f5dc9dbee7b4bfe96f8d5266d2341ae04a23.idx', 'pack-7ab8f5dc9dbee7b4bfe96f8d5266d2341ae04a23.pack']\n",
      "\n",
      "Current Path: /Users/Ottj/Desktop/myProject/exerPythCheckInstal/.git/objects/info\n",
      "Directories: []\n",
      "Files: []\n",
      "\n",
      "Current Path: /Users/Ottj/Desktop/myProject/exerPythCheckInstal/.git/objects/a9\n",
      "Directories: []\n",
      "Files: ['f76f11d4fadfe93320e627ec6eb34fb43a29ab']\n",
      "\n",
      "Current Path: /Users/Ottj/Desktop/myProject/exerPythCheckInstal/.git/objects/ea\n",
      "Directories: []\n",
      "Files: ['e1ff820198d6250be834589d5f34cd8a4f2cae']\n",
      "\n",
      "Current Path: /Users/Ottj/Desktop/myProject/exerPythCheckInstal/.git/objects/2d\n",
      "Directories: []\n",
      "Files: ['0a01d47a4c9502071b69e57e021ef7f4a1d015']\n",
      "\n",
      "Current Path: /Users/Ottj/Desktop/myProject/exerPythCheckInstal/.git/info\n",
      "Directories: []\n",
      "Files: ['exclude']\n",
      "\n",
      "Current Path: /Users/Ottj/Desktop/myProject/exerPythCheckInstal/.git/logs\n",
      "Directories: ['refs']\n",
      "Files: ['HEAD']\n",
      "\n",
      "Current Path: /Users/Ottj/Desktop/myProject/exerPythCheckInstal/.git/logs/refs\n",
      "Directories: ['heads', 'remotes']\n",
      "Files: []\n",
      "\n",
      "Current Path: /Users/Ottj/Desktop/myProject/exerPythCheckInstal/.git/logs/refs/heads\n",
      "Directories: []\n",
      "Files: ['main']\n",
      "\n",
      "Current Path: /Users/Ottj/Desktop/myProject/exerPythCheckInstal/.git/logs/refs/remotes\n",
      "Directories: ['origin']\n",
      "Files: []\n",
      "\n",
      "Current Path: /Users/Ottj/Desktop/myProject/exerPythCheckInstal/.git/logs/refs/remotes/origin\n",
      "Directories: []\n",
      "Files: ['HEAD', 'main']\n",
      "\n",
      "Current Path: /Users/Ottj/Desktop/myProject/exerPythCheckInstal/.git/hooks\n",
      "Directories: []\n",
      "Files: ['commit-msg.sample', 'pre-rebase.sample', 'pre-commit.sample', 'applypatch-msg.sample', 'fsmonitor-watchman.sample', 'pre-receive.sample', 'prepare-commit-msg.sample', 'post-update.sample', 'pre-merge-commit.sample', 'pre-applypatch.sample', 'pre-push.sample', 'update.sample', 'push-to-checkout.sample']\n",
      "\n",
      "Current Path: /Users/Ottj/Desktop/myProject/exerPythCheckInstal/.git/refs\n",
      "Directories: ['heads', 'tags', 'remotes']\n",
      "Files: []\n",
      "\n",
      "Current Path: /Users/Ottj/Desktop/myProject/exerPythCheckInstal/.git/refs/heads\n",
      "Directories: []\n",
      "Files: ['main']\n",
      "\n",
      "Current Path: /Users/Ottj/Desktop/myProject/exerPythCheckInstal/.git/refs/tags\n",
      "Directories: []\n",
      "Files: []\n",
      "\n",
      "Current Path: /Users/Ottj/Desktop/myProject/exerPythCheckInstal/.git/refs/remotes\n",
      "Directories: ['origin']\n",
      "Files: []\n",
      "\n",
      "Current Path: /Users/Ottj/Desktop/myProject/exerPythCheckInstal/.git/refs/remotes/origin\n",
      "Directories: []\n",
      "Files: ['HEAD', 'main']\n",
      "\n",
      "Current Path: /Users/Ottj/Desktop/myProject/exerPythOsTutorial\n",
      "Directories: ['.git']\n",
      "Files: ['README.md']\n",
      "\n",
      "Current Path: /Users/Ottj/Desktop/myProject/exerPythOsTutorial/.git\n",
      "Directories: ['objects', 'info', 'logs', 'hooks', 'refs']\n",
      "Files: ['config', 'HEAD', 'description', 'index', 'packed-refs']\n",
      "\n",
      "Current Path: /Users/Ottj/Desktop/myProject/exerPythOsTutorial/.git/objects\n",
      "Directories: ['pack', 'info']\n",
      "Files: []\n",
      "\n",
      "Current Path: /Users/Ottj/Desktop/myProject/exerPythOsTutorial/.git/objects/pack\n",
      "Directories: []\n",
      "Files: ['pack-3dcd781a7c96ffa7eb4340c2085d98e627b1fcc6.pack', 'pack-3dcd781a7c96ffa7eb4340c2085d98e627b1fcc6.idx']\n",
      "\n",
      "Current Path: /Users/Ottj/Desktop/myProject/exerPythOsTutorial/.git/objects/info\n",
      "Directories: []\n",
      "Files: []\n",
      "\n",
      "Current Path: /Users/Ottj/Desktop/myProject/exerPythOsTutorial/.git/info\n",
      "Directories: []\n",
      "Files: ['exclude']\n",
      "\n",
      "Current Path: /Users/Ottj/Desktop/myProject/exerPythOsTutorial/.git/logs\n",
      "Directories: ['refs']\n",
      "Files: ['HEAD']\n",
      "\n",
      "Current Path: /Users/Ottj/Desktop/myProject/exerPythOsTutorial/.git/logs/refs\n",
      "Directories: ['heads', 'remotes']\n",
      "Files: []\n",
      "\n",
      "Current Path: /Users/Ottj/Desktop/myProject/exerPythOsTutorial/.git/logs/refs/heads\n",
      "Directories: []\n",
      "Files: ['master']\n",
      "\n",
      "Current Path: /Users/Ottj/Desktop/myProject/exerPythOsTutorial/.git/logs/refs/remotes\n",
      "Directories: ['origin']\n",
      "Files: []\n",
      "\n",
      "Current Path: /Users/Ottj/Desktop/myProject/exerPythOsTutorial/.git/logs/refs/remotes/origin\n",
      "Directories: []\n",
      "Files: ['HEAD']\n",
      "\n",
      "Current Path: /Users/Ottj/Desktop/myProject/exerPythOsTutorial/.git/hooks\n",
      "Directories: []\n",
      "Files: ['commit-msg.sample', 'pre-rebase.sample', 'pre-commit.sample', 'applypatch-msg.sample', 'fsmonitor-watchman.sample', 'pre-receive.sample', 'prepare-commit-msg.sample', 'post-update.sample', 'pre-merge-commit.sample', 'pre-applypatch.sample', 'pre-push.sample', 'update.sample', 'push-to-checkout.sample']\n",
      "\n",
      "Current Path: /Users/Ottj/Desktop/myProject/exerPythOsTutorial/.git/refs\n",
      "Directories: ['heads', 'tags', 'remotes']\n",
      "Files: []\n",
      "\n",
      "Current Path: /Users/Ottj/Desktop/myProject/exerPythOsTutorial/.git/refs/heads\n",
      "Directories: []\n",
      "Files: ['master']\n",
      "\n",
      "Current Path: /Users/Ottj/Desktop/myProject/exerPythOsTutorial/.git/refs/tags\n",
      "Directories: []\n",
      "Files: []\n",
      "\n",
      "Current Path: /Users/Ottj/Desktop/myProject/exerPythOsTutorial/.git/refs/remotes\n",
      "Directories: ['origin']\n",
      "Files: []\n",
      "\n",
      "Current Path: /Users/Ottj/Desktop/myProject/exerPythOsTutorial/.git/refs/remotes/origin\n",
      "Directories: []\n",
      "Files: ['HEAD']\n",
      "\n",
      "Current Path: /Users/Ottj/Desktop/myProject/exerPythCondaEnvPkgs\n",
      "Directories: ['.git']\n",
      "Files: ['README.md']\n",
      "\n",
      "Current Path: /Users/Ottj/Desktop/myProject/exerPythCondaEnvPkgs/.git\n",
      "Directories: ['objects', 'info', 'logs', 'hooks', 'refs']\n",
      "Files: ['config', 'HEAD', 'description', 'index', 'packed-refs', 'COMMIT_EDITMSG', 'FETCH_HEAD']\n",
      "\n",
      "Current Path: /Users/Ottj/Desktop/myProject/exerPythCondaEnvPkgs/.git/objects\n",
      "Directories: ['pack', 'info', '96', '1e', '84']\n",
      "Files: []\n",
      "\n",
      "Current Path: /Users/Ottj/Desktop/myProject/exerPythCondaEnvPkgs/.git/objects/pack\n",
      "Directories: []\n",
      "Files: ['pack-99d5ab24c331142ec1af2ac815b6b97bc2cf6d14.idx', 'pack-99d5ab24c331142ec1af2ac815b6b97bc2cf6d14.pack']\n",
      "\n",
      "Current Path: /Users/Ottj/Desktop/myProject/exerPythCondaEnvPkgs/.git/objects/info\n",
      "Directories: []\n",
      "Files: []\n",
      "\n",
      "Current Path: /Users/Ottj/Desktop/myProject/exerPythCondaEnvPkgs/.git/objects/96\n",
      "Directories: []\n",
      "Files: ['8c4e254e7a2c5d96b5458248b4fc20efb32e98']\n",
      "\n",
      "Current Path: /Users/Ottj/Desktop/myProject/exerPythCondaEnvPkgs/.git/objects/1e\n",
      "Directories: []\n",
      "Files: ['f9d43846e8ef5633a32e8c1eccbf2299a47067']\n",
      "\n",
      "Current Path: /Users/Ottj/Desktop/myProject/exerPythCondaEnvPkgs/.git/objects/84\n",
      "Directories: []\n",
      "Files: ['05793a1b580dc154d088f642747e922651e270']\n",
      "\n",
      "Current Path: /Users/Ottj/Desktop/myProject/exerPythCondaEnvPkgs/.git/info\n",
      "Directories: []\n",
      "Files: ['exclude']\n",
      "\n",
      "Current Path: /Users/Ottj/Desktop/myProject/exerPythCondaEnvPkgs/.git/logs\n",
      "Directories: ['refs']\n",
      "Files: ['HEAD']\n",
      "\n",
      "Current Path: /Users/Ottj/Desktop/myProject/exerPythCondaEnvPkgs/.git/logs/refs\n",
      "Directories: ['heads', 'remotes']\n",
      "Files: []\n",
      "\n",
      "Current Path: /Users/Ottj/Desktop/myProject/exerPythCondaEnvPkgs/.git/logs/refs/heads\n",
      "Directories: []\n",
      "Files: ['main']\n",
      "\n",
      "Current Path: /Users/Ottj/Desktop/myProject/exerPythCondaEnvPkgs/.git/logs/refs/remotes\n",
      "Directories: ['origin']\n",
      "Files: []\n",
      "\n",
      "Current Path: /Users/Ottj/Desktop/myProject/exerPythCondaEnvPkgs/.git/logs/refs/remotes/origin\n",
      "Directories: []\n",
      "Files: ['HEAD', 'main']\n",
      "\n",
      "Current Path: /Users/Ottj/Desktop/myProject/exerPythCondaEnvPkgs/.git/hooks\n",
      "Directories: []\n",
      "Files: ['commit-msg.sample', 'pre-rebase.sample', 'pre-commit.sample', 'applypatch-msg.sample', 'fsmonitor-watchman.sample', 'pre-receive.sample', 'prepare-commit-msg.sample', 'post-update.sample', 'pre-merge-commit.sample', 'pre-applypatch.sample', 'pre-push.sample', 'update.sample', 'push-to-checkout.sample']\n",
      "\n",
      "Current Path: /Users/Ottj/Desktop/myProject/exerPythCondaEnvPkgs/.git/refs\n",
      "Directories: ['heads', 'tags', 'remotes']\n",
      "Files: []\n",
      "\n",
      "Current Path: /Users/Ottj/Desktop/myProject/exerPythCondaEnvPkgs/.git/refs/heads\n",
      "Directories: []\n",
      "Files: ['main']\n",
      "\n",
      "Current Path: /Users/Ottj/Desktop/myProject/exerPythCondaEnvPkgs/.git/refs/tags\n",
      "Directories: []\n",
      "Files: []\n",
      "\n",
      "Current Path: /Users/Ottj/Desktop/myProject/exerPythCondaEnvPkgs/.git/refs/remotes\n",
      "Directories: ['origin']\n",
      "Files: []\n",
      "\n",
      "Current Path: /Users/Ottj/Desktop/myProject/exerPythCondaEnvPkgs/.git/refs/remotes/origin\n",
      "Directories: []\n",
      "Files: ['HEAD', 'main']\n",
      "\n",
      "Current Path: /Users/Ottj/Desktop/myProject/.ipynb_checkpoints\n",
      "Directories: []\n",
      "Files: ['OSTutorial-checkpoint.ipynb']\n",
      "\n",
      "Current Path: /Users/Ottj/Desktop/myProject/exerGitPractice\n",
      "Directories: ['.git']\n",
      "Files: ['Fork and Clone a GitHub Repository Screenshot Instructions.pdf', 'gitPracticeSample.png', 'Initialize New Folder For Git and Push to GitHub Screenshot Instructions.pdf', 'README.md']\n",
      "\n",
      "Current Path: /Users/Ottj/Desktop/myProject/exerGitPractice/.git\n",
      "Directories: ['objects', 'info', 'logs', 'hooks', 'refs']\n",
      "Files: ['config', 'HEAD', 'description', 'index', 'packed-refs']\n",
      "\n",
      "Current Path: /Users/Ottj/Desktop/myProject/exerGitPractice/.git/objects\n",
      "Directories: ['pack', 'info']\n",
      "Files: []\n",
      "\n",
      "Current Path: /Users/Ottj/Desktop/myProject/exerGitPractice/.git/objects/pack\n",
      "Directories: []\n",
      "Files: ['pack-e4d168a6fc2bd2b85b298e9e4384644e1fc23ba6.idx', 'pack-e4d168a6fc2bd2b85b298e9e4384644e1fc23ba6.pack']\n",
      "\n",
      "Current Path: /Users/Ottj/Desktop/myProject/exerGitPractice/.git/objects/info\n",
      "Directories: []\n",
      "Files: []\n",
      "\n",
      "Current Path: /Users/Ottj/Desktop/myProject/exerGitPractice/.git/info\n",
      "Directories: []\n",
      "Files: ['exclude']\n",
      "\n",
      "Current Path: /Users/Ottj/Desktop/myProject/exerGitPractice/.git/logs\n",
      "Directories: ['refs']\n",
      "Files: ['HEAD']\n",
      "\n",
      "Current Path: /Users/Ottj/Desktop/myProject/exerGitPractice/.git/logs/refs\n",
      "Directories: ['heads', 'remotes']\n",
      "Files: []\n",
      "\n",
      "Current Path: /Users/Ottj/Desktop/myProject/exerGitPractice/.git/logs/refs/heads\n",
      "Directories: []\n",
      "Files: ['master']\n",
      "\n",
      "Current Path: /Users/Ottj/Desktop/myProject/exerGitPractice/.git/logs/refs/remotes\n",
      "Directories: ['origin']\n",
      "Files: []\n",
      "\n",
      "Current Path: /Users/Ottj/Desktop/myProject/exerGitPractice/.git/logs/refs/remotes/origin\n",
      "Directories: []\n",
      "Files: ['HEAD']\n",
      "\n",
      "Current Path: /Users/Ottj/Desktop/myProject/exerGitPractice/.git/hooks\n",
      "Directories: []\n",
      "Files: ['commit-msg.sample', 'pre-rebase.sample', 'pre-commit.sample', 'applypatch-msg.sample', 'fsmonitor-watchman.sample', 'pre-receive.sample', 'prepare-commit-msg.sample', 'post-update.sample', 'pre-merge-commit.sample', 'pre-applypatch.sample', 'pre-push.sample', 'update.sample', 'push-to-checkout.sample']\n",
      "\n",
      "Current Path: /Users/Ottj/Desktop/myProject/exerGitPractice/.git/refs\n",
      "Directories: ['heads', 'tags', 'remotes']\n",
      "Files: []\n",
      "\n",
      "Current Path: /Users/Ottj/Desktop/myProject/exerGitPractice/.git/refs/heads\n",
      "Directories: []\n",
      "Files: ['master']\n",
      "\n",
      "Current Path: /Users/Ottj/Desktop/myProject/exerGitPractice/.git/refs/tags\n",
      "Directories: []\n",
      "Files: []\n",
      "\n",
      "Current Path: /Users/Ottj/Desktop/myProject/exerGitPractice/.git/refs/remotes\n",
      "Directories: ['origin']\n",
      "Files: []\n",
      "\n",
      "Current Path: /Users/Ottj/Desktop/myProject/exerGitPractice/.git/refs/remotes/origin\n",
      "Directories: []\n",
      "Files: ['HEAD']\n",
      "\n",
      "Current Path: /Users/Ottj/Desktop/myProject/.git\n",
      "Directories: ['objects', 'info', 'logs', 'hooks', 'refs']\n",
      "Files: ['config', 'HEAD', 'description', 'index', 'COMMIT_EDITMSG', 'FETCH_HEAD']\n",
      "\n",
      "Current Path: /Users/Ottj/Desktop/myProject/.git/objects\n",
      "Directories: ['df', 'pack', '42', '17', '8a', '4d', '86', 'info', '08', '85']\n",
      "Files: []\n",
      "\n",
      "Current Path: /Users/Ottj/Desktop/myProject/.git/objects/df\n",
      "Directories: []\n",
      "Files: ['468f842463724b5d0a6d250059257b0fcb8712']\n",
      "\n",
      "Current Path: /Users/Ottj/Desktop/myProject/.git/objects/pack\n",
      "Directories: []\n",
      "Files: []\n",
      "\n",
      "Current Path: /Users/Ottj/Desktop/myProject/.git/objects/42\n",
      "Directories: []\n",
      "Files: ['3320e33cb6f43198bcaecca3a46927297dfbab']\n",
      "\n",
      "Current Path: /Users/Ottj/Desktop/myProject/.git/objects/17\n",
      "Directories: []\n",
      "Files: ['25d8d99cb87337b6e5dabfe842c551bd524b71']\n",
      "\n",
      "Current Path: /Users/Ottj/Desktop/myProject/.git/objects/8a\n",
      "Directories: []\n",
      "Files: ['cb75556f1e6400ba981f410965dbc3b735e185']\n",
      "\n",
      "Current Path: /Users/Ottj/Desktop/myProject/.git/objects/4d\n",
      "Directories: []\n",
      "Files: ['2c4a385773016780f2b52bd184826c75096026']\n",
      "\n",
      "Current Path: /Users/Ottj/Desktop/myProject/.git/objects/86\n",
      "Directories: []\n",
      "Files: ['4884944234635ab1c30244039d5022d2d1e9d3']\n",
      "\n",
      "Current Path: /Users/Ottj/Desktop/myProject/.git/objects/info\n",
      "Directories: []\n",
      "Files: []\n",
      "\n",
      "Current Path: /Users/Ottj/Desktop/myProject/.git/objects/08\n",
      "Directories: []\n",
      "Files: ['daec2beb471839cd1debd28fb6c157d8921fd7', '6138706b8b6b79937a9c27c4b29ccfb7752784']\n",
      "\n",
      "Current Path: /Users/Ottj/Desktop/myProject/.git/objects/85\n",
      "Directories: []\n",
      "Files: ['15e635a0b912b2bae9234eabc1c401cb4dff59']\n",
      "\n",
      "Current Path: /Users/Ottj/Desktop/myProject/.git/info\n",
      "Directories: []\n",
      "Files: ['exclude']\n",
      "\n",
      "Current Path: /Users/Ottj/Desktop/myProject/.git/logs\n",
      "Directories: ['refs']\n",
      "Files: ['HEAD']\n",
      "\n",
      "Current Path: /Users/Ottj/Desktop/myProject/.git/logs/refs\n",
      "Directories: ['heads', 'remotes']\n",
      "Files: []\n",
      "\n",
      "Current Path: /Users/Ottj/Desktop/myProject/.git/logs/refs/heads\n",
      "Directories: []\n",
      "Files: ['main']\n",
      "\n",
      "Current Path: /Users/Ottj/Desktop/myProject/.git/logs/refs/remotes\n",
      "Directories: ['origin']\n",
      "Files: []\n",
      "\n",
      "Current Path: /Users/Ottj/Desktop/myProject/.git/logs/refs/remotes/origin\n",
      "Directories: []\n",
      "Files: ['main']\n",
      "\n",
      "Current Path: /Users/Ottj/Desktop/myProject/.git/hooks\n",
      "Directories: []\n",
      "Files: ['commit-msg.sample', 'pre-rebase.sample', 'pre-commit.sample', 'applypatch-msg.sample', 'fsmonitor-watchman.sample', 'pre-receive.sample', 'prepare-commit-msg.sample', 'post-update.sample', 'pre-merge-commit.sample', 'pre-applypatch.sample', 'pre-push.sample', 'update.sample', 'push-to-checkout.sample']\n",
      "\n",
      "Current Path: /Users/Ottj/Desktop/myProject/.git/refs\n",
      "Directories: ['heads', 'tags', 'remotes']\n",
      "Files: []\n",
      "\n",
      "Current Path: /Users/Ottj/Desktop/myProject/.git/refs/heads\n",
      "Directories: []\n",
      "Files: ['main']\n",
      "\n",
      "Current Path: /Users/Ottj/Desktop/myProject/.git/refs/tags\n",
      "Directories: []\n",
      "Files: []\n",
      "\n",
      "Current Path: /Users/Ottj/Desktop/myProject/.git/refs/remotes\n",
      "Directories: ['origin']\n",
      "Files: []\n",
      "\n",
      "Current Path: /Users/Ottj/Desktop/myProject/.git/refs/remotes/origin\n",
      "Directories: []\n",
      "Files: ['main']\n",
      "\n",
      "Current Path: /Users/Ottj/Desktop/myProject/exerPythModPackTutorial\n",
      "Directories: ['__pycache__', '.git']\n",
      "Files: ['importer.py', 'fact.py', 'README.md', 'mod.py']\n",
      "\n",
      "Current Path: /Users/Ottj/Desktop/myProject/exerPythModPackTutorial/__pycache__\n",
      "Directories: []\n",
      "Files: ['fact.cpython-38.pyc', 'mod.cpython-38.pyc']\n",
      "\n",
      "Current Path: /Users/Ottj/Desktop/myProject/exerPythModPackTutorial/.git\n",
      "Directories: ['objects', 'info', 'logs', 'hooks', 'refs']\n",
      "Files: ['config', 'HEAD', 'description', 'index', 'packed-refs', 'COMMIT_EDITMSG']\n",
      "\n",
      "Current Path: /Users/Ottj/Desktop/myProject/exerPythModPackTutorial/.git/objects\n",
      "Directories: ['df', 'e2', 'pack', '80', '8a', '31', 'info', '54', '0f', 'f8']\n",
      "Files: []\n",
      "\n",
      "Current Path: /Users/Ottj/Desktop/myProject/exerPythModPackTutorial/.git/objects/df\n",
      "Directories: []\n",
      "Files: ['b41765aeccb7b36aeae9ec3fad091cd0b22a2a']\n",
      "\n",
      "Current Path: /Users/Ottj/Desktop/myProject/exerPythModPackTutorial/.git/objects/e2\n",
      "Directories: []\n",
      "Files: ['cd1931b377d5bc60317b2dfff743438a9305a7']\n",
      "\n",
      "Current Path: /Users/Ottj/Desktop/myProject/exerPythModPackTutorial/.git/objects/pack\n",
      "Directories: []\n",
      "Files: ['pack-4e7aa90a0b326de104a53d45de5cbfb9a40b0864.idx', 'pack-4e7aa90a0b326de104a53d45de5cbfb9a40b0864.pack']\n",
      "\n",
      "Current Path: /Users/Ottj/Desktop/myProject/exerPythModPackTutorial/.git/objects/80\n",
      "Directories: []\n",
      "Files: ['90090c333886c849cd266ed8531861daa86fbe']\n",
      "\n",
      "Current Path: /Users/Ottj/Desktop/myProject/exerPythModPackTutorial/.git/objects/8a\n",
      "Directories: []\n",
      "Files: ['a027f9d161f64d897442d3adbf28f34d1ee2df']\n",
      "\n",
      "Current Path: /Users/Ottj/Desktop/myProject/exerPythModPackTutorial/.git/objects/31\n",
      "Directories: []\n",
      "Files: ['8683704f31c44b27f772d962c4661375c8345d']\n",
      "\n",
      "Current Path: /Users/Ottj/Desktop/myProject/exerPythModPackTutorial/.git/objects/info\n",
      "Directories: []\n",
      "Files: []\n",
      "\n",
      "Current Path: /Users/Ottj/Desktop/myProject/exerPythModPackTutorial/.git/objects/54\n",
      "Directories: []\n",
      "Files: ['062e547cddf5e2899d0d9f91ca1072dff7e87e']\n",
      "\n",
      "Current Path: /Users/Ottj/Desktop/myProject/exerPythModPackTutorial/.git/objects/0f\n",
      "Directories: []\n",
      "Files: ['c323ea03f5f47abe9bfbd33cf2a1e6e43c8216']\n",
      "\n",
      "Current Path: /Users/Ottj/Desktop/myProject/exerPythModPackTutorial/.git/objects/f8\n",
      "Directories: []\n",
      "Files: ['49acfe4271d745df10cfff2408a7c10f79c8ce']\n",
      "\n",
      "Current Path: /Users/Ottj/Desktop/myProject/exerPythModPackTutorial/.git/info\n",
      "Directories: []\n",
      "Files: ['exclude']\n",
      "\n",
      "Current Path: /Users/Ottj/Desktop/myProject/exerPythModPackTutorial/.git/logs\n",
      "Directories: ['refs']\n",
      "Files: ['HEAD']\n",
      "\n",
      "Current Path: /Users/Ottj/Desktop/myProject/exerPythModPackTutorial/.git/logs/refs\n",
      "Directories: ['heads', 'remotes']\n",
      "Files: []\n",
      "\n",
      "Current Path: /Users/Ottj/Desktop/myProject/exerPythModPackTutorial/.git/logs/refs/heads\n",
      "Directories: []\n",
      "Files: ['main']\n",
      "\n",
      "Current Path: /Users/Ottj/Desktop/myProject/exerPythModPackTutorial/.git/logs/refs/remotes\n",
      "Directories: ['origin']\n",
      "Files: []\n",
      "\n",
      "Current Path: /Users/Ottj/Desktop/myProject/exerPythModPackTutorial/.git/logs/refs/remotes/origin\n",
      "Directories: []\n",
      "Files: ['HEAD', 'main']\n",
      "\n",
      "Current Path: /Users/Ottj/Desktop/myProject/exerPythModPackTutorial/.git/hooks\n",
      "Directories: []\n",
      "Files: ['commit-msg.sample', 'pre-rebase.sample', 'pre-commit.sample', 'applypatch-msg.sample', 'fsmonitor-watchman.sample', 'pre-receive.sample', 'prepare-commit-msg.sample', 'post-update.sample', 'pre-merge-commit.sample', 'pre-applypatch.sample', 'pre-push.sample', 'update.sample', 'push-to-checkout.sample']\n",
      "\n",
      "Current Path: /Users/Ottj/Desktop/myProject/exerPythModPackTutorial/.git/refs\n",
      "Directories: ['heads', 'tags', 'remotes']\n",
      "Files: []\n",
      "\n",
      "Current Path: /Users/Ottj/Desktop/myProject/exerPythModPackTutorial/.git/refs/heads\n",
      "Directories: []\n",
      "Files: ['main']\n",
      "\n",
      "Current Path: /Users/Ottj/Desktop/myProject/exerPythModPackTutorial/.git/refs/tags\n",
      "Directories: []\n",
      "Files: []\n",
      "\n",
      "Current Path: /Users/Ottj/Desktop/myProject/exerPythModPackTutorial/.git/refs/remotes\n",
      "Directories: ['origin']\n",
      "Files: []\n",
      "\n",
      "Current Path: /Users/Ottj/Desktop/myProject/exerPythModPackTutorial/.git/refs/remotes/origin\n",
      "Directories: []\n",
      "Files: ['HEAD', 'main']\n",
      "\n"
     ]
    }
   ],
   "source": [
    "for dirpath, dirnames, filenames in os.walk('/Users/Ottj/Desktop/myProject'):\n",
    "    print('Current Path:', dirpath)\n",
    "    print('Directories:', dirnames)\n",
    "    print('Files:', filenames)\n",
    "    print()"
   ]
  },
  {
   "cell_type": "code",
   "execution_count": 29,
   "metadata": {},
   "outputs": [
    {
     "name": "stdout",
     "output_type": "stream",
     "text": [
      "/Users/Ottj\n"
     ]
    }
   ],
   "source": [
    "print(os.environ.get('HOME'))"
   ]
  },
  {
   "cell_type": "code",
   "execution_count": 30,
   "metadata": {},
   "outputs": [
    {
     "name": "stdout",
     "output_type": "stream",
     "text": [
      "/Users/Ottj/myProject\n"
     ]
    }
   ],
   "source": [
    "file_path = os.path.join(os.environ.get('HOME'), 'myProject')\n",
    "print(file_path)"
   ]
  },
  {
   "cell_type": "code",
   "execution_count": 31,
   "metadata": {},
   "outputs": [
    {
     "name": "stdout",
     "output_type": "stream",
     "text": [
      "test.txt\n"
     ]
    }
   ],
   "source": [
    "print(os.path.basename('/tmp/test.txt'))"
   ]
  },
  {
   "cell_type": "code",
   "execution_count": 32,
   "metadata": {},
   "outputs": [
    {
     "data": {
      "text/plain": [
       "'/tmp'"
      ]
     },
     "execution_count": 32,
     "metadata": {},
     "output_type": "execute_result"
    }
   ],
   "source": [
    "os.path.dirname('/tmp/test.txt')"
   ]
  },
  {
   "cell_type": "code",
   "execution_count": 34,
   "metadata": {},
   "outputs": [
    {
     "data": {
      "text/plain": [
       "('/tmp', 'test.txt')"
      ]
     },
     "execution_count": 34,
     "metadata": {},
     "output_type": "execute_result"
    }
   ],
   "source": [
    "os.path.split('/tmp/test.txt')"
   ]
  },
  {
   "cell_type": "code",
   "execution_count": 35,
   "metadata": {},
   "outputs": [
    {
     "data": {
      "text/plain": [
       "False"
      ]
     },
     "execution_count": 35,
     "metadata": {},
     "output_type": "execute_result"
    }
   ],
   "source": [
    "os.path.exists('/tmp/test.txt')"
   ]
  },
  {
   "cell_type": "code",
   "execution_count": 36,
   "metadata": {},
   "outputs": [
    {
     "data": {
      "text/plain": [
       "True"
      ]
     },
     "execution_count": 36,
     "metadata": {},
     "output_type": "execute_result"
    }
   ],
   "source": [
    "os.path.isdir('myProject')"
   ]
  },
  {
   "cell_type": "code",
   "execution_count": 37,
   "metadata": {},
   "outputs": [
    {
     "data": {
      "text/plain": [
       "False"
      ]
     },
     "execution_count": 37,
     "metadata": {},
     "output_type": "execute_result"
    }
   ],
   "source": [
    "os.path.isfile('myProject')"
   ]
  },
  {
   "cell_type": "code",
   "execution_count": 38,
   "metadata": {},
   "outputs": [
    {
     "data": {
      "text/plain": [
       "('/tmp/test', '.txt')"
      ]
     },
     "execution_count": 38,
     "metadata": {},
     "output_type": "execute_result"
    }
   ],
   "source": [
    "os.path.splitext('/tmp/test.txt')"
   ]
  },
  {
   "cell_type": "code",
   "execution_count": null,
   "metadata": {},
   "outputs": [],
   "source": [
    "#official python documentation https://docs.python.org/3/ "
   ]
  },
  {
   "cell_type": "code",
   "execution_count": null,
   "metadata": {},
   "outputs": [],
   "source": [
    "#os tutorial https://docs.python.org/3/library/os.html?highlight=os#module-os"
   ]
  }
 ],
 "metadata": {
  "kernelspec": {
   "display_name": "Python 3",
   "language": "python",
   "name": "python3"
  },
  "language_info": {
   "codemirror_mode": {
    "name": "ipython",
    "version": 3
   },
   "file_extension": ".py",
   "mimetype": "text/x-python",
   "name": "python",
   "nbconvert_exporter": "python",
   "pygments_lexer": "ipython3",
   "version": "3.8.5"
  }
 },
 "nbformat": 4,
 "nbformat_minor": 4
}
